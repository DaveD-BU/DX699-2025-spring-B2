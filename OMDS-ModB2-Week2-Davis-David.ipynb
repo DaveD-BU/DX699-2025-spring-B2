{
 "cells": [
  {
   "cell_type": "markdown",
   "id": "5190b54c-d49c-4d6f-80cc-22555336a9cd",
   "metadata": {},
   "source": [
    "# Week 2 - Preprocessing, part 2\n",
    "\n",
    "# 1. Lesson: None"
   ]
  },
  {
   "cell_type": "markdown",
   "id": "47c4e5ff-b05f-4ef2-96f1-49dcb5beb158",
   "metadata": {},
   "source": [
    "# 2. Weekly graph question"
   ]
  },
  {
   "cell_type": "markdown",
   "id": "aad37e29-6e84-41fa-886d-abc1312213ab",
   "metadata": {},
   "source": [
    "The Storytelling With Data book mentions planning on a \"Who, What, and How\" for your data story.  Write down a possible Who, What, and How for your data, using the ideas in the book."
   ]
  },
  {
   "cell_type": "markdown",
   "id": "a4788e62",
   "metadata": {},
   "source": [
    "***Who***\n",
    "* Marketing Team: They are interested in understanding customer demographics and purchasing behavior to tailor marketing campaigns more effectively.\n",
    "\n",
    "* Data Scientists and Analysts: These professionals will be working directly with the dataset to build machine learning models. They need to understand the data structure and its nuances.\n",
    "\n",
    "* Sales Team: Insights from the data can help the sales team target their efforts more efficiently, focusing on demographics that are more likely to make purchases.\n",
    "\n",
    "* Executives and Decision Makers: High-level stakeholders will use insights from the data to make strategic business decisions and allocate resources.\n",
    "\n",
    "* Product Development Team: Understanding customer demographics can help this team develop products that better meet the needs of the market.\n",
    "\n",
    "***What***\n",
    "* Demographic Data: Age, gender, income level, education, geographic location, etc. This helps in segmenting the market.\n",
    "\n",
    "* Purchase Data: Information on whether customers made purchases, what they bought, how often, and the amount spent. This data is crucial for understanding buying patterns.\n",
    "\n",
    "* Customer Behavior: Insights into customer behavior such as browsing history, engagement with marketing campaigns, and feedback. This helps in creating more personalized marketing strategies.\n",
    "\n",
    "* Campaign Performance: Metrics on the performance of past marketing campaigns to identify what works and what doesn't.\n",
    "\n",
    "***How***\n",
    "* Data Cleaning and Preparation: Ensuring the data is clean, consistent, and formatted correctly for machine learning models.\n",
    "\n",
    "* Exploratory Data Analysis (EDA): Understanding the dataset through visualization and summary statistics to identify patterns and relationships.\n",
    "\n",
    "* Feature Engineering: Creating new features from the existing data to improve the performance of machine learning models.\n",
    "\n",
    "* Model Selection and Training: Choosing appropriate machine learning algorithms and training the models on the dataset.\n",
    "\n",
    "* Model Evaluation: Assessing the performance of the models using metrics like accuracy, precision, recall, and F1-score.\n",
    "\n",
    "* Deployment and Monitoring: Deploying the models into a production environment and continuously monitoring their performance to ensure they remain effective."
   ]
  },
  {
   "cell_type": "markdown",
   "id": "898eb327-aefd-4ac0-b95a-92b616a2181b",
   "metadata": {},
   "source": [
    "# 3. Homework - work with your own data"
   ]
  },
  {
   "cell_type": "code",
   "execution_count": 1,
   "id": "fe925521-979f-4983-8d85-8db8d1316e99",
   "metadata": {},
   "outputs": [],
   "source": [
    "import pandas as pd\n",
    "import numpy as np\n",
    "from datetime import datetime, timedelta"
   ]
  },
  {
   "cell_type": "markdown",
   "id": "14836788-b235-4cd4-b94d-5f749c6141a8",
   "metadata": {},
   "source": [
    "This week, you will do the same types of exercises as last week, but you should use your own datasets that you found last semester.\n",
    "\n",
    "### Here are some types of analysis you can do  Use Google, documentation, and ChatGPT to help you:\n",
    "\n",
    "- Summarize the datasets using info() and describe()\n",
    "\n",
    "- Are there any duplicate rows?\n",
    "\n",
    "- Are there any duplicate values in a given column (when this would be inappropriate?)\n",
    "\n",
    "- What are the mean, median, and mode of each column?\n",
    "\n",
    "- Are there any missing or null values?\n",
    "\n",
    "    - Do you want to fill in the missing value with a mean value?  A value of your choice?  Remove that row?\n",
    "\n",
    "- Identify any other inconsistent data (e.g. someone seems to be taking an action before they are born.)\n",
    "\n",
    "- Encode any categorical variables (e.g. with one-hot encoding.)\n",
    "\n",
    "### Conclusions:\n",
    "\n",
    "- Are the data usable?  If not, find some new data!\n",
    "\n",
    "- Do you need to modify or correct the data in some way?\n",
    "\n",
    "- Is there any class imbalance?  (Categories that have many more items than other categories)."
   ]
  },
  {
   "cell_type": "code",
   "execution_count": 2,
   "id": "d4f46c05",
   "metadata": {},
   "outputs": [
    {
     "name": "stderr",
     "output_type": "stream",
     "text": [
      "C:\\Users\\dave\\AppData\\Local\\Temp\\ipykernel_19512\\3971815645.py:1: DtypeWarning: Columns (1,6) have mixed types. Specify dtype option on import or set low_memory=False.\n",
      "  df_marketing = pd.read_csv('marketing.csv')\n"
     ]
    }
   ],
   "source": [
    "df_marketing = pd.read_csv('marketing.csv')"
   ]
  },
  {
   "cell_type": "code",
   "execution_count": 3,
   "id": "60a9d0f2",
   "metadata": {},
   "outputs": [
    {
     "name": "stdout",
     "output_type": "stream",
     "text": [
      "<class 'pandas.core.frame.DataFrame'>\n",
      "RangeIndex: 336006 entries, 0 to 336005\n",
      "Data columns (total 29 columns):\n",
      " #   Column               Non-Null Count   Dtype  \n",
      "---  ------               --------------   -----  \n",
      " 0   ID                   336006 non-null  object \n",
      " 1   Year_Birth           336006 non-null  object \n",
      " 2   Education            336006 non-null  object \n",
      " 3   Marital_Status       336006 non-null  object \n",
      " 4   Income               336006 non-null  int64  \n",
      " 5   Kidhome              336006 non-null  int64  \n",
      " 6   Teenhome             336006 non-null  object \n",
      " 7   Dt_Customer          336006 non-null  object \n",
      " 8   Recency              336006 non-null  int64  \n",
      " 9   MntWines             336006 non-null  int64  \n",
      " 10  MntFruits            336006 non-null  int64  \n",
      " 11  MntMeatProducts      336006 non-null  int64  \n",
      " 12  MntFishProducts      336006 non-null  int64  \n",
      " 13  MntSweetProducts     336006 non-null  int64  \n",
      " 14  MntGoldProds         336006 non-null  int64  \n",
      " 15  NumDealsPurchases    336006 non-null  int64  \n",
      " 16  NumWebPurchases      336006 non-null  int64  \n",
      " 17  NumCatalogPurchases  336006 non-null  int64  \n",
      " 18  NumStorePurchases    336006 non-null  int64  \n",
      " 19  NumWebVisitsMonth    336006 non-null  int64  \n",
      " 20  AcceptedCmp3         336006 non-null  int64  \n",
      " 21  AcceptedCmp4         336006 non-null  int64  \n",
      " 22  AcceptedCmp5         336006 non-null  int64  \n",
      " 23  AcceptedCmp1         336006 non-null  int64  \n",
      " 24  AcceptedCmp2         336006 non-null  int64  \n",
      " 25  Complain             336006 non-null  int64  \n",
      " 26  Z_CostContact        336006 non-null  int64  \n",
      " 27  Z_Revenue            336006 non-null  int64  \n",
      " 28  Response             336005 non-null  float64\n",
      "dtypes: float64(1), int64(22), object(6)\n",
      "memory usage: 74.3+ MB\n"
     ]
    }
   ],
   "source": [
    "df_marketing.info()"
   ]
  },
  {
   "cell_type": "code",
   "execution_count": 4,
   "id": "5ad070e9",
   "metadata": {},
   "outputs": [
    {
     "data": {
      "text/html": [
       "<div>\n",
       "<style scoped>\n",
       "    .dataframe tbody tr th:only-of-type {\n",
       "        vertical-align: middle;\n",
       "    }\n",
       "\n",
       "    .dataframe tbody tr th {\n",
       "        vertical-align: top;\n",
       "    }\n",
       "\n",
       "    .dataframe thead th {\n",
       "        text-align: right;\n",
       "    }\n",
       "</style>\n",
       "<table border=\"1\" class=\"dataframe\">\n",
       "  <thead>\n",
       "    <tr style=\"text-align: right;\">\n",
       "      <th></th>\n",
       "      <th>Income</th>\n",
       "      <th>Kidhome</th>\n",
       "      <th>Recency</th>\n",
       "      <th>MntWines</th>\n",
       "      <th>MntFruits</th>\n",
       "      <th>MntMeatProducts</th>\n",
       "      <th>MntFishProducts</th>\n",
       "      <th>MntSweetProducts</th>\n",
       "      <th>MntGoldProds</th>\n",
       "      <th>NumDealsPurchases</th>\n",
       "      <th>...</th>\n",
       "      <th>NumWebVisitsMonth</th>\n",
       "      <th>AcceptedCmp3</th>\n",
       "      <th>AcceptedCmp4</th>\n",
       "      <th>AcceptedCmp5</th>\n",
       "      <th>AcceptedCmp1</th>\n",
       "      <th>AcceptedCmp2</th>\n",
       "      <th>Complain</th>\n",
       "      <th>Z_CostContact</th>\n",
       "      <th>Z_Revenue</th>\n",
       "      <th>Response</th>\n",
       "    </tr>\n",
       "  </thead>\n",
       "  <tbody>\n",
       "    <tr>\n",
       "      <th>count</th>\n",
       "      <td>336006.000000</td>\n",
       "      <td>336006.000000</td>\n",
       "      <td>336006.000000</td>\n",
       "      <td>336006.000000</td>\n",
       "      <td>336006.000000</td>\n",
       "      <td>336006.000000</td>\n",
       "      <td>336006.000000</td>\n",
       "      <td>336006.000000</td>\n",
       "      <td>336006.000000</td>\n",
       "      <td>336006.000000</td>\n",
       "      <td>...</td>\n",
       "      <td>336006.000000</td>\n",
       "      <td>336006.000000</td>\n",
       "      <td>336006.000000</td>\n",
       "      <td>336006.00000</td>\n",
       "      <td>336006.000000</td>\n",
       "      <td>336006.000000</td>\n",
       "      <td>336006.000000</td>\n",
       "      <td>336006.000000</td>\n",
       "      <td>336006.000000</td>\n",
       "      <td>336005.000000</td>\n",
       "    </tr>\n",
       "    <tr>\n",
       "      <th>mean</th>\n",
       "      <td>81229.765436</td>\n",
       "      <td>0.441641</td>\n",
       "      <td>48.687259</td>\n",
       "      <td>307.981113</td>\n",
       "      <td>26.586865</td>\n",
       "      <td>166.555023</td>\n",
       "      <td>40.894835</td>\n",
       "      <td>28.413701</td>\n",
       "      <td>43.870246</td>\n",
       "      <td>2.371940</td>\n",
       "      <td>...</td>\n",
       "      <td>4.924662</td>\n",
       "      <td>0.498515</td>\n",
       "      <td>0.500804</td>\n",
       "      <td>0.50078</td>\n",
       "      <td>0.500113</td>\n",
       "      <td>0.497929</td>\n",
       "      <td>0.009384</td>\n",
       "      <td>3.000024</td>\n",
       "      <td>10.999970</td>\n",
       "      <td>0.500016</td>\n",
       "    </tr>\n",
       "    <tr>\n",
       "      <th>std</th>\n",
       "      <td>126181.552940</td>\n",
       "      <td>0.538449</td>\n",
       "      <td>28.964723</td>\n",
       "      <td>333.526305</td>\n",
       "      <td>39.336844</td>\n",
       "      <td>225.632264</td>\n",
       "      <td>53.085507</td>\n",
       "      <td>40.434937</td>\n",
       "      <td>52.015376</td>\n",
       "      <td>2.079078</td>\n",
       "      <td>...</td>\n",
       "      <td>2.786390</td>\n",
       "      <td>0.499999</td>\n",
       "      <td>0.500000</td>\n",
       "      <td>0.50000</td>\n",
       "      <td>0.500001</td>\n",
       "      <td>0.499996</td>\n",
       "      <td>0.096507</td>\n",
       "      <td>0.013801</td>\n",
       "      <td>0.017251</td>\n",
       "      <td>0.500001</td>\n",
       "    </tr>\n",
       "    <tr>\n",
       "      <th>min</th>\n",
       "      <td>0.000000</td>\n",
       "      <td>0.000000</td>\n",
       "      <td>0.000000</td>\n",
       "      <td>0.000000</td>\n",
       "      <td>0.000000</td>\n",
       "      <td>0.000000</td>\n",
       "      <td>0.000000</td>\n",
       "      <td>0.000000</td>\n",
       "      <td>0.000000</td>\n",
       "      <td>0.000000</td>\n",
       "      <td>...</td>\n",
       "      <td>0.000000</td>\n",
       "      <td>0.000000</td>\n",
       "      <td>0.000000</td>\n",
       "      <td>0.00000</td>\n",
       "      <td>0.000000</td>\n",
       "      <td>0.000000</td>\n",
       "      <td>0.000000</td>\n",
       "      <td>3.000000</td>\n",
       "      <td>1.000000</td>\n",
       "      <td>0.000000</td>\n",
       "    </tr>\n",
       "    <tr>\n",
       "      <th>25%</th>\n",
       "      <td>3153.000000</td>\n",
       "      <td>0.000000</td>\n",
       "      <td>24.000000</td>\n",
       "      <td>38.000000</td>\n",
       "      <td>3.000000</td>\n",
       "      <td>16.000000</td>\n",
       "      <td>8.000000</td>\n",
       "      <td>5.000000</td>\n",
       "      <td>8.000000</td>\n",
       "      <td>1.000000</td>\n",
       "      <td>...</td>\n",
       "      <td>3.000000</td>\n",
       "      <td>0.000000</td>\n",
       "      <td>0.000000</td>\n",
       "      <td>0.00000</td>\n",
       "      <td>0.000000</td>\n",
       "      <td>0.000000</td>\n",
       "      <td>0.000000</td>\n",
       "      <td>3.000000</td>\n",
       "      <td>11.000000</td>\n",
       "      <td>0.000000</td>\n",
       "    </tr>\n",
       "    <tr>\n",
       "      <th>50%</th>\n",
       "      <td>42860.500000</td>\n",
       "      <td>0.000000</td>\n",
       "      <td>49.000000</td>\n",
       "      <td>176.000000</td>\n",
       "      <td>8.000000</td>\n",
       "      <td>66.000000</td>\n",
       "      <td>18.000000</td>\n",
       "      <td>10.000000</td>\n",
       "      <td>24.000000</td>\n",
       "      <td>2.000000</td>\n",
       "      <td>...</td>\n",
       "      <td>5.000000</td>\n",
       "      <td>0.000000</td>\n",
       "      <td>1.000000</td>\n",
       "      <td>1.00000</td>\n",
       "      <td>1.000000</td>\n",
       "      <td>0.000000</td>\n",
       "      <td>0.000000</td>\n",
       "      <td>3.000000</td>\n",
       "      <td>11.000000</td>\n",
       "      <td>1.000000</td>\n",
       "    </tr>\n",
       "    <tr>\n",
       "      <th>75%</th>\n",
       "      <td>89945.000000</td>\n",
       "      <td>1.000000</td>\n",
       "      <td>74.000000</td>\n",
       "      <td>499.000000</td>\n",
       "      <td>32.000000</td>\n",
       "      <td>232.000000</td>\n",
       "      <td>50.000000</td>\n",
       "      <td>34.000000</td>\n",
       "      <td>56.000000</td>\n",
       "      <td>3.000000</td>\n",
       "      <td>...</td>\n",
       "      <td>7.000000</td>\n",
       "      <td>1.000000</td>\n",
       "      <td>1.000000</td>\n",
       "      <td>1.00000</td>\n",
       "      <td>1.000000</td>\n",
       "      <td>1.000000</td>\n",
       "      <td>0.000000</td>\n",
       "      <td>3.000000</td>\n",
       "      <td>11.000000</td>\n",
       "      <td>1.000000</td>\n",
       "    </tr>\n",
       "    <tr>\n",
       "      <th>max</th>\n",
       "      <td>666662.000000</td>\n",
       "      <td>2.000000</td>\n",
       "      <td>103.000000</td>\n",
       "      <td>1541.000000</td>\n",
       "      <td>203.000000</td>\n",
       "      <td>1731.000000</td>\n",
       "      <td>278.000000</td>\n",
       "      <td>272.000000</td>\n",
       "      <td>368.000000</td>\n",
       "      <td>17.000000</td>\n",
       "      <td>...</td>\n",
       "      <td>22.000000</td>\n",
       "      <td>1.000000</td>\n",
       "      <td>1.000000</td>\n",
       "      <td>1.00000</td>\n",
       "      <td>1.000000</td>\n",
       "      <td>1.000000</td>\n",
       "      <td>3.000000</td>\n",
       "      <td>11.000000</td>\n",
       "      <td>11.000000</td>\n",
       "      <td>1.000000</td>\n",
       "    </tr>\n",
       "  </tbody>\n",
       "</table>\n",
       "<p>8 rows × 23 columns</p>\n",
       "</div>"
      ],
      "text/plain": [
       "              Income        Kidhome        Recency       MntWines  \\\n",
       "count  336006.000000  336006.000000  336006.000000  336006.000000   \n",
       "mean    81229.765436       0.441641      48.687259     307.981113   \n",
       "std    126181.552940       0.538449      28.964723     333.526305   \n",
       "min         0.000000       0.000000       0.000000       0.000000   \n",
       "25%      3153.000000       0.000000      24.000000      38.000000   \n",
       "50%     42860.500000       0.000000      49.000000     176.000000   \n",
       "75%     89945.000000       1.000000      74.000000     499.000000   \n",
       "max    666662.000000       2.000000     103.000000    1541.000000   \n",
       "\n",
       "           MntFruits  MntMeatProducts  MntFishProducts  MntSweetProducts  \\\n",
       "count  336006.000000    336006.000000    336006.000000     336006.000000   \n",
       "mean       26.586865       166.555023        40.894835         28.413701   \n",
       "std        39.336844       225.632264        53.085507         40.434937   \n",
       "min         0.000000         0.000000         0.000000          0.000000   \n",
       "25%         3.000000        16.000000         8.000000          5.000000   \n",
       "50%         8.000000        66.000000        18.000000         10.000000   \n",
       "75%        32.000000       232.000000        50.000000         34.000000   \n",
       "max       203.000000      1731.000000       278.000000        272.000000   \n",
       "\n",
       "        MntGoldProds  NumDealsPurchases  ...  NumWebVisitsMonth  \\\n",
       "count  336006.000000      336006.000000  ...      336006.000000   \n",
       "mean       43.870246           2.371940  ...           4.924662   \n",
       "std        52.015376           2.079078  ...           2.786390   \n",
       "min         0.000000           0.000000  ...           0.000000   \n",
       "25%         8.000000           1.000000  ...           3.000000   \n",
       "50%        24.000000           2.000000  ...           5.000000   \n",
       "75%        56.000000           3.000000  ...           7.000000   \n",
       "max       368.000000          17.000000  ...          22.000000   \n",
       "\n",
       "        AcceptedCmp3   AcceptedCmp4  AcceptedCmp5   AcceptedCmp1  \\\n",
       "count  336006.000000  336006.000000  336006.00000  336006.000000   \n",
       "mean        0.498515       0.500804       0.50078       0.500113   \n",
       "std         0.499999       0.500000       0.50000       0.500001   \n",
       "min         0.000000       0.000000       0.00000       0.000000   \n",
       "25%         0.000000       0.000000       0.00000       0.000000   \n",
       "50%         0.000000       1.000000       1.00000       1.000000   \n",
       "75%         1.000000       1.000000       1.00000       1.000000   \n",
       "max         1.000000       1.000000       1.00000       1.000000   \n",
       "\n",
       "        AcceptedCmp2       Complain  Z_CostContact      Z_Revenue  \\\n",
       "count  336006.000000  336006.000000  336006.000000  336006.000000   \n",
       "mean        0.497929       0.009384       3.000024      10.999970   \n",
       "std         0.499996       0.096507       0.013801       0.017251   \n",
       "min         0.000000       0.000000       3.000000       1.000000   \n",
       "25%         0.000000       0.000000       3.000000      11.000000   \n",
       "50%         0.000000       0.000000       3.000000      11.000000   \n",
       "75%         1.000000       0.000000       3.000000      11.000000   \n",
       "max         1.000000       3.000000      11.000000      11.000000   \n",
       "\n",
       "            Response  \n",
       "count  336005.000000  \n",
       "mean        0.500016  \n",
       "std         0.500001  \n",
       "min         0.000000  \n",
       "25%         0.000000  \n",
       "50%         1.000000  \n",
       "75%         1.000000  \n",
       "max         1.000000  \n",
       "\n",
       "[8 rows x 23 columns]"
      ]
     },
     "execution_count": 4,
     "metadata": {},
     "output_type": "execute_result"
    }
   ],
   "source": [
    "df_marketing.describe()"
   ]
  },
  {
   "cell_type": "code",
   "execution_count": 5,
   "id": "25b4f240",
   "metadata": {},
   "outputs": [
    {
     "data": {
      "text/plain": [
       "0"
      ]
     },
     "execution_count": 5,
     "metadata": {},
     "output_type": "execute_result"
    }
   ],
   "source": [
    "#Duplicate Rows\n",
    "df_marketing.duplicated().sum()"
   ]
  },
  {
   "cell_type": "code",
   "execution_count": 6,
   "id": "32c6115c",
   "metadata": {},
   "outputs": [
    {
     "data": {
      "text/plain": [
       "ID                     0\n",
       "Year_Birth             0\n",
       "Education              0\n",
       "Marital_Status         0\n",
       "Income                 0\n",
       "Kidhome                0\n",
       "Teenhome               0\n",
       "Dt_Customer            0\n",
       "Recency                0\n",
       "MntWines               0\n",
       "MntFruits              0\n",
       "MntMeatProducts        0\n",
       "MntFishProducts        0\n",
       "MntSweetProducts       0\n",
       "MntGoldProds           0\n",
       "NumDealsPurchases      0\n",
       "NumWebPurchases        0\n",
       "NumCatalogPurchases    0\n",
       "NumStorePurchases      0\n",
       "NumWebVisitsMonth      0\n",
       "AcceptedCmp3           0\n",
       "AcceptedCmp4           0\n",
       "AcceptedCmp5           0\n",
       "AcceptedCmp1           0\n",
       "AcceptedCmp2           0\n",
       "Complain               0\n",
       "Z_CostContact          0\n",
       "Z_Revenue              0\n",
       "Response               1\n",
       "dtype: int64"
      ]
     },
     "execution_count": 6,
     "metadata": {},
     "output_type": "execute_result"
    }
   ],
   "source": [
    "#Missing Values\n",
    "df_marketing.isnull().sum()"
   ]
  },
  {
   "cell_type": "markdown",
   "id": "9a8a5fdc",
   "metadata": {},
   "source": [
    "I would not add the missing data.  That column is not important for the analysis I want to do."
   ]
  },
  {
   "cell_type": "code",
   "execution_count": 7,
   "id": "66534fb0",
   "metadata": {},
   "outputs": [
    {
     "data": {
      "text/plain": [
       "Education\n",
       "Graduation    168590\n",
       "PhD            73544\n",
       "Master         57004\n",
       "2n Cycle       30015\n",
       "Basic           6852\n",
       "Divorced           1\n",
       "Name: count, dtype: int64"
      ]
     },
     "execution_count": 7,
     "metadata": {},
     "output_type": "execute_result"
    }
   ],
   "source": [
    "#Distinct value in the Education column with the count of each value\n",
    "df_marketing['Education'].value_counts()"
   ]
  },
  {
   "cell_type": "code",
   "execution_count": 8,
   "id": "750fd046",
   "metadata": {},
   "outputs": [],
   "source": [
    "#Remove the row with the Education value Diivorced\n",
    "df_marketing = df_marketing[df_marketing['Education'] != 'Divorced']"
   ]
  },
  {
   "cell_type": "code",
   "execution_count": 9,
   "id": "5a09ee8d",
   "metadata": {},
   "outputs": [
    {
     "name": "stdout",
     "output_type": "stream",
     "text": [
      "Categorical Features: ['ID', 'Year_Birth', 'Education', 'Marital_Status', 'Teenhome', 'Dt_Customer']\n",
      "Numeric Features: ['Income', 'Kidhome', 'Recency', 'MntWines', 'MntFruits', 'MntMeatProducts', 'MntFishProducts', 'MntSweetProducts', 'MntGoldProds', 'NumDealsPurchases', 'NumWebPurchases', 'NumCatalogPurchases', 'NumStorePurchases', 'NumWebVisitsMonth', 'AcceptedCmp3', 'AcceptedCmp4', 'AcceptedCmp5', 'AcceptedCmp1', 'AcceptedCmp2', 'Complain', 'Z_CostContact', 'Z_Revenue', 'Response']\n"
     ]
    }
   ],
   "source": [
    "categorical_features = df_marketing.select_dtypes(exclude=['number']).columns.tolist()\n",
    "numeric_features     = df_marketing.select_dtypes(include=['number']).columns.tolist()\n",
    "\n",
    "# Print results if you want\n",
    "print(\"Categorical Features:\", categorical_features)\n",
    "print(\"Numeric Features:\", numeric_features)"
   ]
  },
  {
   "cell_type": "code",
   "execution_count": 10,
   "id": "ec61733b",
   "metadata": {},
   "outputs": [
    {
     "data": {
      "text/html": [
       "<div>\n",
       "<style scoped>\n",
       "    .dataframe tbody tr th:only-of-type {\n",
       "        vertical-align: middle;\n",
       "    }\n",
       "\n",
       "    .dataframe tbody tr th {\n",
       "        vertical-align: top;\n",
       "    }\n",
       "\n",
       "    .dataframe thead th {\n",
       "        text-align: right;\n",
       "    }\n",
       "</style>\n",
       "<table border=\"1\" class=\"dataframe\">\n",
       "  <thead>\n",
       "    <tr style=\"text-align: right;\">\n",
       "      <th></th>\n",
       "      <th>ID</th>\n",
       "      <th>Year_Birth</th>\n",
       "      <th>Education</th>\n",
       "      <th>Marital_Status</th>\n",
       "      <th>Income</th>\n",
       "      <th>Kidhome</th>\n",
       "      <th>Teenhome</th>\n",
       "      <th>Dt_Customer</th>\n",
       "      <th>Recency</th>\n",
       "      <th>MntWines</th>\n",
       "      <th>...</th>\n",
       "      <th>NumWebVisitsMonth</th>\n",
       "      <th>AcceptedCmp3</th>\n",
       "      <th>AcceptedCmp4</th>\n",
       "      <th>AcceptedCmp5</th>\n",
       "      <th>AcceptedCmp1</th>\n",
       "      <th>AcceptedCmp2</th>\n",
       "      <th>Complain</th>\n",
       "      <th>Z_CostContact</th>\n",
       "      <th>Z_Revenue</th>\n",
       "      <th>Response</th>\n",
       "    </tr>\n",
       "  </thead>\n",
       "  <tbody>\n",
       "    <tr>\n",
       "      <th>0</th>\n",
       "      <td>e20d011e-c904-4301-871d-4120e734f189</td>\n",
       "      <td>1956</td>\n",
       "      <td>2n Cycle</td>\n",
       "      <td>Together</td>\n",
       "      <td>40831</td>\n",
       "      <td>0</td>\n",
       "      <td>1</td>\n",
       "      <td>2022-07-21</td>\n",
       "      <td>62</td>\n",
       "      <td>636</td>\n",
       "      <td>...</td>\n",
       "      <td>5</td>\n",
       "      <td>1</td>\n",
       "      <td>1</td>\n",
       "      <td>1</td>\n",
       "      <td>1</td>\n",
       "      <td>1</td>\n",
       "      <td>0</td>\n",
       "      <td>3</td>\n",
       "      <td>11</td>\n",
       "      <td>1.0</td>\n",
       "    </tr>\n",
       "    <tr>\n",
       "      <th>1</th>\n",
       "      <td>9038499f-e82e-43d3-803d-165dba9afe48</td>\n",
       "      <td>1950</td>\n",
       "      <td>Graduation</td>\n",
       "      <td>Together</td>\n",
       "      <td>22537</td>\n",
       "      <td>1</td>\n",
       "      <td>1</td>\n",
       "      <td>2021-11-05</td>\n",
       "      <td>42</td>\n",
       "      <td>6</td>\n",
       "      <td>...</td>\n",
       "      <td>4</td>\n",
       "      <td>0</td>\n",
       "      <td>1</td>\n",
       "      <td>1</td>\n",
       "      <td>0</td>\n",
       "      <td>0</td>\n",
       "      <td>0</td>\n",
       "      <td>3</td>\n",
       "      <td>11</td>\n",
       "      <td>1.0</td>\n",
       "    </tr>\n",
       "    <tr>\n",
       "      <th>2</th>\n",
       "      <td>a3aaaf2a-c063-45ba-ac1a-ab375d53faa3</td>\n",
       "      <td>1960</td>\n",
       "      <td>PhD</td>\n",
       "      <td>Together</td>\n",
       "      <td>195755</td>\n",
       "      <td>1</td>\n",
       "      <td>0</td>\n",
       "      <td>2015-12-24</td>\n",
       "      <td>28</td>\n",
       "      <td>383</td>\n",
       "      <td>...</td>\n",
       "      <td>4</td>\n",
       "      <td>0</td>\n",
       "      <td>1</td>\n",
       "      <td>0</td>\n",
       "      <td>1</td>\n",
       "      <td>1</td>\n",
       "      <td>0</td>\n",
       "      <td>3</td>\n",
       "      <td>11</td>\n",
       "      <td>1.0</td>\n",
       "    </tr>\n",
       "    <tr>\n",
       "      <th>3</th>\n",
       "      <td>fabc6e91-6e59-4dd6-8d07-572b7f07b9e4</td>\n",
       "      <td>1980</td>\n",
       "      <td>PhD</td>\n",
       "      <td>Divorced</td>\n",
       "      <td>143143</td>\n",
       "      <td>0</td>\n",
       "      <td>0</td>\n",
       "      <td>2017-06-14</td>\n",
       "      <td>24</td>\n",
       "      <td>29</td>\n",
       "      <td>...</td>\n",
       "      <td>5</td>\n",
       "      <td>1</td>\n",
       "      <td>1</td>\n",
       "      <td>0</td>\n",
       "      <td>0</td>\n",
       "      <td>0</td>\n",
       "      <td>0</td>\n",
       "      <td>3</td>\n",
       "      <td>11</td>\n",
       "      <td>1.0</td>\n",
       "    </tr>\n",
       "    <tr>\n",
       "      <th>4</th>\n",
       "      <td>6bf0b99f-dd6d-4964-a3ca-1e98f500d9e1</td>\n",
       "      <td>1977</td>\n",
       "      <td>Graduation</td>\n",
       "      <td>Married</td>\n",
       "      <td>84648</td>\n",
       "      <td>0</td>\n",
       "      <td>1</td>\n",
       "      <td>2021-06-17</td>\n",
       "      <td>92</td>\n",
       "      <td>133</td>\n",
       "      <td>...</td>\n",
       "      <td>7</td>\n",
       "      <td>1</td>\n",
       "      <td>1</td>\n",
       "      <td>1</td>\n",
       "      <td>1</td>\n",
       "      <td>1</td>\n",
       "      <td>0</td>\n",
       "      <td>3</td>\n",
       "      <td>11</td>\n",
       "      <td>0.0</td>\n",
       "    </tr>\n",
       "  </tbody>\n",
       "</table>\n",
       "<p>5 rows × 29 columns</p>\n",
       "</div>"
      ],
      "text/plain": [
       "                                     ID Year_Birth   Education Marital_Status  \\\n",
       "0  e20d011e-c904-4301-871d-4120e734f189       1956    2n Cycle       Together   \n",
       "1  9038499f-e82e-43d3-803d-165dba9afe48       1950  Graduation       Together   \n",
       "2  a3aaaf2a-c063-45ba-ac1a-ab375d53faa3       1960         PhD       Together   \n",
       "3  fabc6e91-6e59-4dd6-8d07-572b7f07b9e4       1980         PhD       Divorced   \n",
       "4  6bf0b99f-dd6d-4964-a3ca-1e98f500d9e1       1977  Graduation        Married   \n",
       "\n",
       "   Income  Kidhome Teenhome Dt_Customer  Recency  MntWines  ...  \\\n",
       "0   40831        0        1  2022-07-21       62       636  ...   \n",
       "1   22537        1        1  2021-11-05       42         6  ...   \n",
       "2  195755        1        0  2015-12-24       28       383  ...   \n",
       "3  143143        0        0  2017-06-14       24        29  ...   \n",
       "4   84648        0        1  2021-06-17       92       133  ...   \n",
       "\n",
       "   NumWebVisitsMonth  AcceptedCmp3  AcceptedCmp4  AcceptedCmp5  AcceptedCmp1  \\\n",
       "0                  5             1             1             1             1   \n",
       "1                  4             0             1             1             0   \n",
       "2                  4             0             1             0             1   \n",
       "3                  5             1             1             0             0   \n",
       "4                  7             1             1             1             1   \n",
       "\n",
       "   AcceptedCmp2  Complain  Z_CostContact  Z_Revenue  Response  \n",
       "0             1         0              3         11       1.0  \n",
       "1             0         0              3         11       1.0  \n",
       "2             1         0              3         11       1.0  \n",
       "3             0         0              3         11       1.0  \n",
       "4             1         0              3         11       0.0  \n",
       "\n",
       "[5 rows x 29 columns]"
      ]
     },
     "execution_count": 10,
     "metadata": {},
     "output_type": "execute_result"
    }
   ],
   "source": [
    "df_marketing.head()"
   ]
  },
  {
   "cell_type": "code",
   "execution_count": 11,
   "id": "29c2aeec",
   "metadata": {},
   "outputs": [],
   "source": [
    "#convert Year_Birth to a numeric column\n",
    "df_marketing['Year_Birth'] = pd.to_numeric(df_marketing['Year_Birth'], errors='coerce')"
   ]
  },
  {
   "cell_type": "code",
   "execution_count": 12,
   "id": "afd80ebe",
   "metadata": {},
   "outputs": [
    {
     "data": {
      "text/plain": [
       "array([1, 0, 2, '0', '1', '2'], dtype=object)"
      ]
     },
     "execution_count": 12,
     "metadata": {},
     "output_type": "execute_result"
    }
   ],
   "source": [
    "#display the unique values of the column teenhome\n",
    "df_marketing['Teenhome'].unique()"
   ]
  },
  {
   "cell_type": "code",
   "execution_count": 13,
   "id": "91597beb",
   "metadata": {},
   "outputs": [],
   "source": [
    "#convert the Dt_Customer column to datetime\n",
    "df_marketing['Dt_Customer'] = pd.to_datetime(df_marketing['Dt_Customer'], errors='coerce')"
   ]
  },
  {
   "cell_type": "code",
   "execution_count": 14,
   "id": "00ce7944",
   "metadata": {},
   "outputs": [],
   "source": [
    "#convert the column teenhome to a numeric column\n",
    "df_marketing['Teenhome'] = pd.to_numeric(df_marketing['Teenhome'], errors='coerce')"
   ]
  },
  {
   "cell_type": "code",
   "execution_count": 15,
   "id": "e25f5964",
   "metadata": {},
   "outputs": [
    {
     "data": {
      "text/plain": [
       "Marital_Status\n",
       "Married     127596\n",
       "Together     83899\n",
       "Single       70251\n",
       "Divorced     34052\n",
       "Widow        10025\n",
       "Absurd        3480\n",
       "Alone         3358\n",
       "YOLO          3344\n",
       "Name: count, dtype: int64"
      ]
     },
     "execution_count": 15,
     "metadata": {},
     "output_type": "execute_result"
    }
   ],
   "source": [
    "#Distinct value in the Marital_Status column with the count of each value\n",
    "df_marketing['Marital_Status'].value_counts()"
   ]
  },
  {
   "cell_type": "code",
   "execution_count": 16,
   "id": "c692b60d",
   "metadata": {},
   "outputs": [],
   "source": [
    "#One Hot Encoding 'Mariral_Status' and 'Education' columns\n",
    "df_marketing_encoded = pd.get_dummies(df_marketing, columns=['Marital_Status', 'Education'])\n",
    "#Save the encoded data to a new csv file\n",
    "df_marketing_encoded.to_csv('marketing_encoded.csv', index=False)\n"
   ]
  },
  {
   "cell_type": "code",
   "execution_count": 17,
   "id": "595f362f",
   "metadata": {},
   "outputs": [
    {
     "name": "stdout",
     "output_type": "stream",
     "text": [
      "Min Year Birth: 1888\n",
      "Max Year Birth: 2000\n"
     ]
    }
   ],
   "source": [
    "#get the min and max values of the column Year_Birth\n",
    "min_year_birth = df_marketing['Year_Birth'].min()\n",
    "max_year_birth = df_marketing['Year_Birth'].max()\n",
    "\n",
    "print(\"Min Year Birth:\", min_year_birth)\n",
    "print(\"Max Year Birth:\", max_year_birth)"
   ]
  },
  {
   "cell_type": "code",
   "execution_count": 18,
   "id": "bd6fe48f",
   "metadata": {},
   "outputs": [
    {
     "name": "stdout",
     "output_type": "stream",
     "text": [
      "Min Dt Customer: 2012-08-04 00:00:00\n",
      "Max Dt Customer: 2023-09-15 00:00:00\n"
     ]
    }
   ],
   "source": [
    "#get the min and max values of the column Dt_Customer\n",
    "min_dt_customer = df_marketing['Dt_Customer'].min()\n",
    "max_dt_customer = df_marketing['Dt_Customer'].max()\n",
    "\n",
    "print(\"Min Dt Customer:\", min_dt_customer)\n",
    "print(\"Max Dt Customer:\", max_dt_customer)\n",
    "\n",
    "#create a new column Year Customer that contains the year of the column Dt_Customer as a numeric value\n",
    "df_marketing['Year_Customer'] = df_marketing['Dt_Customer'].dt.year\n",
    "\n"
   ]
  },
  {
   "cell_type": "code",
   "execution_count": 19,
   "id": "b2c6ee95",
   "metadata": {},
   "outputs": [
    {
     "data": {
      "text/plain": [
       "Text(0, 0.5, 'Year Customer')"
      ]
     },
     "execution_count": 19,
     "metadata": {},
     "output_type": "execute_result"
    },
    {
     "data": {
      "image/png": "[encoded data removed]",
      "text/plain": [
       "<Figure size 640x480 with 1 Axes>"
      ]
     },
     "metadata": {},
     "output_type": "display_data"
    }
   ],
   "source": [
    "import matplotlib.pyplot as plt\n",
    "\n",
    "plt.scatter(df_marketing[\"Year_Birth\"], df_marketing[\"Year_Customer\"])\n",
    "plt.xlabel(\"Year Birth\")\n",
    "plt.ylabel(\"Year Customer\")"
   ]
  },
  {
   "cell_type": "code",
   "execution_count": 20,
   "id": "374fe2cc",
   "metadata": {},
   "outputs": [
    {
     "name": "stdout",
     "output_type": "stream",
     "text": [
      "Count of Records: 450\n"
     ]
    },
    {
     "data": {
      "text/plain": [
       "Text(0, 0.5, 'Year Customer')"
      ]
     },
     "execution_count": 20,
     "metadata": {},
     "output_type": "execute_result"
    },
    {
     "data": {
      "image/png": "[encoded data removed]",
      "text/plain": [
       "<Figure size 640x480 with 1 Axes>"
      ]
     },
     "metadata": {},
     "output_type": "display_data"
    }
   ],
   "source": [
    "#create a subset of customers born before 1920\n",
    "df_marketing_subset = df_marketing[df_marketing['Year_Birth'] < 1920]\n",
    "\n",
    "#print the count of records in the subset\n",
    "print(\"Count of Records:\", df_marketing_subset.shape[0])\n",
    "\n",
    "plt.scatter(df_marketing_subset[\"Year_Birth\"], df_marketing_subset[\"Year_Customer\"])\n",
    "plt.xlabel(\"Year Birth\")\n",
    "plt.ylabel(\"Year Customer\")"
   ]
  },
  {
   "cell_type": "code",
   "execution_count": 21,
   "id": "d0225ea4",
   "metadata": {},
   "outputs": [],
   "source": [
    "df_marketing_cleaned = df_marketing[df_marketing['Year_Birth'] > 1920]\n",
    "df_marketing_cleaned.to_csv('marketing_cleaned.csv', index=False)"
   ]
  },
  {
   "cell_type": "markdown",
   "id": "e24f11f5",
   "metadata": {},
   "source": [
    "I have remove 450 records where the birth year was before 1920. There were no accounts created prior to 2012 so those individuals would not have been too old (greater than 100) to create those accounts. I have cleaned the rest of the data so that there are no column with inappropriate duplicate values. The data is usable. There are no missing values. There is no class imbalance. There was one row that had an inconsistent value in the Education column. I removed the row with divorce value for education."
   ]
  },
  {
   "cell_type": "markdown",
   "id": "abab9e6d-18cc-4863-b980-3e52f581763a",
   "metadata": {},
   "source": [
    "# 4. Storytelling With Data graph"
   ]
  },
  {
   "cell_type": "markdown",
   "id": "1911148d-9df6-4b33-a875-8c96408ec834",
   "metadata": {},
   "source": [
    "Just like last week: choose any graph in the Introduction of Storytelling With Data. Use matplotlib to reproduce it in a rough way. I don't expect you to spend an enormous amount of time on this; I understand that you likely will not have time to re-create every feature of the graph. However, if you're excited about learning to use matplotlib, this is a good way to do that. You don't have to duplicate the exact values on the graph; just the same rough shape will be enough.  If you don't feel comfortable using matplotlib yet, do the best you can and write down what you tried or what Google searches you did to find the answers."
   ]
  },
  {
   "cell_type": "code",
   "execution_count": 22,
   "id": "8b2888f9-3700-45ab-9829-6a5372106f9f",
   "metadata": {},
   "outputs": [
    {
     "data": {
      "text/html": [
       "<div>\n",
       "<style scoped>\n",
       "    .dataframe tbody tr th:only-of-type {\n",
       "        vertical-align: middle;\n",
       "    }\n",
       "\n",
       "    .dataframe tbody tr th {\n",
       "        vertical-align: top;\n",
       "    }\n",
       "\n",
       "    .dataframe thead th {\n",
       "        text-align: right;\n",
       "    }\n",
       "</style>\n",
       "<table border=\"1\" class=\"dataframe\">\n",
       "  <thead>\n",
       "    <tr style=\"text-align: right;\">\n",
       "      <th></th>\n",
       "      <th>ID</th>\n",
       "      <th>Year_Birth</th>\n",
       "      <th>Education</th>\n",
       "      <th>Marital_Status</th>\n",
       "      <th>Income</th>\n",
       "      <th>Kidhome</th>\n",
       "      <th>Teenhome</th>\n",
       "      <th>Dt_Customer</th>\n",
       "      <th>Recency</th>\n",
       "      <th>MntWines</th>\n",
       "      <th>...</th>\n",
       "      <th>AcceptedCmp3</th>\n",
       "      <th>AcceptedCmp4</th>\n",
       "      <th>AcceptedCmp5</th>\n",
       "      <th>AcceptedCmp1</th>\n",
       "      <th>AcceptedCmp2</th>\n",
       "      <th>Complain</th>\n",
       "      <th>Z_CostContact</th>\n",
       "      <th>Z_Revenue</th>\n",
       "      <th>Response</th>\n",
       "      <th>Year_Customer</th>\n",
       "    </tr>\n",
       "  </thead>\n",
       "  <tbody>\n",
       "    <tr>\n",
       "      <th>0</th>\n",
       "      <td>e20d011e-c904-4301-871d-4120e734f189</td>\n",
       "      <td>1956</td>\n",
       "      <td>2n Cycle</td>\n",
       "      <td>Together</td>\n",
       "      <td>40831</td>\n",
       "      <td>0</td>\n",
       "      <td>1</td>\n",
       "      <td>2022-07-21</td>\n",
       "      <td>62</td>\n",
       "      <td>636</td>\n",
       "      <td>...</td>\n",
       "      <td>1</td>\n",
       "      <td>1</td>\n",
       "      <td>1</td>\n",
       "      <td>1</td>\n",
       "      <td>1</td>\n",
       "      <td>0</td>\n",
       "      <td>3</td>\n",
       "      <td>11</td>\n",
       "      <td>1.0</td>\n",
       "      <td>2022</td>\n",
       "    </tr>\n",
       "    <tr>\n",
       "      <th>1</th>\n",
       "      <td>9038499f-e82e-43d3-803d-165dba9afe48</td>\n",
       "      <td>1950</td>\n",
       "      <td>Graduation</td>\n",
       "      <td>Together</td>\n",
       "      <td>22537</td>\n",
       "      <td>1</td>\n",
       "      <td>1</td>\n",
       "      <td>2021-11-05</td>\n",
       "      <td>42</td>\n",
       "      <td>6</td>\n",
       "      <td>...</td>\n",
       "      <td>0</td>\n",
       "      <td>1</td>\n",
       "      <td>1</td>\n",
       "      <td>0</td>\n",
       "      <td>0</td>\n",
       "      <td>0</td>\n",
       "      <td>3</td>\n",
       "      <td>11</td>\n",
       "      <td>1.0</td>\n",
       "      <td>2021</td>\n",
       "    </tr>\n",
       "    <tr>\n",
       "      <th>2</th>\n",
       "      <td>a3aaaf2a-c063-45ba-ac1a-ab375d53faa3</td>\n",
       "      <td>1960</td>\n",
       "      <td>PhD</td>\n",
       "      <td>Together</td>\n",
       "      <td>195755</td>\n",
       "      <td>1</td>\n",
       "      <td>0</td>\n",
       "      <td>2015-12-24</td>\n",
       "      <td>28</td>\n",
       "      <td>383</td>\n",
       "      <td>...</td>\n",
       "      <td>0</td>\n",
       "      <td>1</td>\n",
       "      <td>0</td>\n",
       "      <td>1</td>\n",
       "      <td>1</td>\n",
       "      <td>0</td>\n",
       "      <td>3</td>\n",
       "      <td>11</td>\n",
       "      <td>1.0</td>\n",
       "      <td>2015</td>\n",
       "    </tr>\n",
       "    <tr>\n",
       "      <th>3</th>\n",
       "      <td>fabc6e91-6e59-4dd6-8d07-572b7f07b9e4</td>\n",
       "      <td>1980</td>\n",
       "      <td>PhD</td>\n",
       "      <td>Divorced</td>\n",
       "      <td>143143</td>\n",
       "      <td>0</td>\n",
       "      <td>0</td>\n",
       "      <td>2017-06-14</td>\n",
       "      <td>24</td>\n",
       "      <td>29</td>\n",
       "      <td>...</td>\n",
       "      <td>1</td>\n",
       "      <td>1</td>\n",
       "      <td>0</td>\n",
       "      <td>0</td>\n",
       "      <td>0</td>\n",
       "      <td>0</td>\n",
       "      <td>3</td>\n",
       "      <td>11</td>\n",
       "      <td>1.0</td>\n",
       "      <td>2017</td>\n",
       "    </tr>\n",
       "    <tr>\n",
       "      <th>4</th>\n",
       "      <td>6bf0b99f-dd6d-4964-a3ca-1e98f500d9e1</td>\n",
       "      <td>1977</td>\n",
       "      <td>Graduation</td>\n",
       "      <td>Married</td>\n",
       "      <td>84648</td>\n",
       "      <td>0</td>\n",
       "      <td>1</td>\n",
       "      <td>2021-06-17</td>\n",
       "      <td>92</td>\n",
       "      <td>133</td>\n",
       "      <td>...</td>\n",
       "      <td>1</td>\n",
       "      <td>1</td>\n",
       "      <td>1</td>\n",
       "      <td>1</td>\n",
       "      <td>1</td>\n",
       "      <td>0</td>\n",
       "      <td>3</td>\n",
       "      <td>11</td>\n",
       "      <td>0.0</td>\n",
       "      <td>2021</td>\n",
       "    </tr>\n",
       "  </tbody>\n",
       "</table>\n",
       "<p>5 rows × 30 columns</p>\n",
       "</div>"
      ],
      "text/plain": [
       "                                     ID  Year_Birth   Education  \\\n",
       "0  e20d011e-c904-4301-871d-4120e734f189        1956    2n Cycle   \n",
       "1  9038499f-e82e-43d3-803d-165dba9afe48        1950  Graduation   \n",
       "2  a3aaaf2a-c063-45ba-ac1a-ab375d53faa3        1960         PhD   \n",
       "3  fabc6e91-6e59-4dd6-8d07-572b7f07b9e4        1980         PhD   \n",
       "4  6bf0b99f-dd6d-4964-a3ca-1e98f500d9e1        1977  Graduation   \n",
       "\n",
       "  Marital_Status  Income  Kidhome  Teenhome Dt_Customer  Recency  MntWines  \\\n",
       "0       Together   40831        0         1  2022-07-21       62       636   \n",
       "1       Together   22537        1         1  2021-11-05       42         6   \n",
       "2       Together  195755        1         0  2015-12-24       28       383   \n",
       "3       Divorced  143143        0         0  2017-06-14       24        29   \n",
       "4        Married   84648        0         1  2021-06-17       92       133   \n",
       "\n",
       "   ...  AcceptedCmp3  AcceptedCmp4  AcceptedCmp5  AcceptedCmp1  AcceptedCmp2  \\\n",
       "0  ...             1             1             1             1             1   \n",
       "1  ...             0             1             1             0             0   \n",
       "2  ...             0             1             0             1             1   \n",
       "3  ...             1             1             0             0             0   \n",
       "4  ...             1             1             1             1             1   \n",
       "\n",
       "   Complain  Z_CostContact  Z_Revenue  Response  Year_Customer  \n",
       "0         0              3         11       1.0           2022  \n",
       "1         0              3         11       1.0           2021  \n",
       "2         0              3         11       1.0           2015  \n",
       "3         0              3         11       1.0           2017  \n",
       "4         0              3         11       0.0           2021  \n",
       "\n",
       "[5 rows x 30 columns]"
      ]
     },
     "execution_count": 22,
     "metadata": {},
     "output_type": "execute_result"
    }
   ],
   "source": [
    "df_marketing_cleaned.head()"
   ]
  },
  {
   "cell_type": "code",
   "execution_count": null,
   "id": "1b456f04",
   "metadata": {},
   "outputs": [
    {
     "name": "stderr",
     "output_type": "stream",
     "text": [
      "C:\\Users\\dave\\AppData\\Local\\Temp\\ipykernel_19512\\201837346.py:2: SettingWithCopyWarning: \n",
      "A value is trying to be set on a copy of a slice from a DataFrame.\n",
      "Try using .loc[row_indexer,col_indexer] = value instead\n",
      "\n",
      "See the caveats in the documentation: https://pandas.pydata.org/pandas-docs/stable/user_guide/indexing.html#returning-a-view-versus-a-copy\n",
      "  df_marketing_cleaned['Year_Customer'] = df_marketing_cleaned['Dt_Customer'].dt.year\n",
      "C:\\Users\\dave\\AppData\\Local\\Temp\\ipykernel_19512\\201837346.py:3: SettingWithCopyWarning: \n",
      "A value is trying to be set on a copy of a slice from a DataFrame.\n",
      "Try using .loc[row_indexer,col_indexer] = value instead\n",
      "\n",
      "See the caveats in the documentation: https://pandas.pydata.org/pandas-docs/stable/user_guide/indexing.html#returning-a-view-versus-a-copy\n",
      "  df_marketing_cleaned['Year_Customer'] = df_marketing_cleaned['Year_Customer'].astype(int)\n",
      "C:\\Users\\dave\\AppData\\Local\\Temp\\ipykernel_19512\\201837346.py:5: SettingWithCopyWarning: \n",
      "A value is trying to be set on a copy of a slice from a DataFrame.\n",
      "Try using .loc[row_indexer,col_indexer] = value instead\n",
      "\n",
      "See the caveats in the documentation: https://pandas.pydata.org/pandas-docs/stable/user_guide/indexing.html#returning-a-view-versus-a-copy\n",
      "  df_marketing_cleaned['Total_Purchases'] = df_marketing_cleaned['NumStorePurchases'] + df_marketing_cleaned['NumWebPurchases'] + df_marketing_cleaned['NumCatalogPurchases']\n"
     ]
    },
    {
     "data": {
      "image/png": "[encoded data removed]",
      "text/plain": [
       "<Figure size 640x480 with 1 Axes>"
      ]
     },
     "metadata": {},
     "output_type": "display_data"
    }
   ],
   "source": [
    "df_marketing_cleaned['Year_Customer'] = df_marketing_cleaned['Dt_Customer'].dt.year\n",
    "df_marketing_cleaned['Year_Customer'] = df_marketing_cleaned['Year_Customer'].astype(int)\n",
    "\n",
    "df_marketing_cleaned['Total_Purchases'] = df_marketing_cleaned['NumStorePurchases'] + df_marketing_cleaned['NumWebPurchases'] + df_marketing_cleaned['NumCatalogPurchases']\n",
    "\n",
    "df_marketing_cleaned_grouped = df_marketing_cleaned.groupby('Year_Customer').agg({'NumStorePurchases': 'sum', 'NumWebPurchases': 'sum', 'NumCatalogPurchases': 'sum'}).reset_index()\n",
    "\n",
    "plt.plot(df_marketing_cleaned_grouped['Year_Customer'], df_marketing_cleaned_grouped['NumStorePurchases'], label='Store Purchases')\n",
    "plt.plot(df_marketing_cleaned_grouped['Year_Customer'], df_marketing_cleaned_grouped['NumWebPurchases'], label='Web Purchases')\n",
    "plt.plot(df_marketing_cleaned_grouped['Year_Customer'], df_marketing_cleaned_grouped['NumCatalogPurchases'], label='Catalog Purchases')\n",
    "\n",
    "plt.xlabel(\"Year\")\n",
    "plt.ylabel(\"Number of Purchases\")\n",
    "plt.title(\"Number of Purchases by Year\")\n",
    "plt.legend()\n",
    "plt.show()\n"
   ]
  }
 ],
 "metadata": {
  "kernelspec": {
   "display_name": "base",
   "language": "python",
   "name": "python3"
  },
  "language_info": {
   "codemirror_mode": {
    "name": "ipython",
    "version": 3
   },
   "file_extension": ".py",
   "mimetype": "text/x-python",
   "name": "python",
   "nbconvert_exporter": "python",
   "pygments_lexer": "ipython3",
   "version": "3.12.4"
  }
 },
 "nbformat": 4,
 "nbformat_minor": 5
}
